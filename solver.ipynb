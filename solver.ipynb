{
 "cells": [
  {
   "cell_type": "code",
   "execution_count": 1,
   "id": "83902338",
   "metadata": {},
   "outputs": [],
   "source": [
    "import logging\n",
    "logging.basicConfig(level=logging.INFO)"
   ]
  },
  {
   "cell_type": "code",
   "execution_count": 2,
   "id": "92c45ef7",
   "metadata": {},
   "outputs": [],
   "source": [
    "from typing import Tuple\n",
    "from fractions import Fraction\n",
    "\n",
    "from mine_sweeper.solver import (\n",
    "    MineSweeperProblem,\n",
    "    MineSweeperProblemAnalysis,\n",
    "    MineSweeperSolution,\n",
    "    MineSweeperSolutionVisualizer,\n",
    "    MineSweeperSolver,\n",
    ")\n",
    "\n",
    "NUM_BOMB_FOR_STAGE: Tuple[int, ...] = (0, 13, 16, 19, 22, 25, 28, 31, 32, 32, 32)\n",
    "\n",
    "\n",
    "def analyze_field(field_str: str, num_item_external: int = 0) -> None:\n",
    "    problem = MineSweeperProblem.from_field_str(field_str)\n",
    "    solution = MineSweeperSolver.solve(problem)\n",
    "\n",
    "    analysis = MineSweeperProblemAnalysis.from_field_str(field_str)\n",
    "    bomb_rate = Fraction(\n",
    "        # ステージあたり爆弾数 - 確定爆弾\n",
    "        NUM_BOMB_FOR_STAGE[stage] - analysis.num_found,\n",
    "        # 全面 - (図面開放済み + 確定爆弾 + ゴール正面 + アイテム数)\n",
    "        11 * 14 - (analysis.num_opened + analysis.num_found + 1 + num_item_external),\n",
    "    )\n",
    "    print(\"Bomb Rate:\", bomb_rate, float(bomb_rate))\n",
    "    MineSweeperSolutionVisualizer.show_plaintext(solution, bomb_rate)"
   ]
  },
  {
   "cell_type": "code",
   "execution_count": 3,
   "id": "34063b51",
   "metadata": {},
   "outputs": [
    {
     "name": "stderr",
     "output_type": "stream",
     "text": [
      "INFO:root:# len(questions)=15\n",
      "INFO:root:# len(constraints)=94\n",
      "INFO:root:# len(known_mines)=20\n",
      "INFO:root:# Took 0.05239355843514204 seconds\n",
      "INFO:root:# len(solutions)=12\n"
     ]
    },
    {
     "name": "stdout",
     "output_type": "stream",
     "text": [
      "Bomb Rate: 12/29 0.41379310344827586\n",
      "   (0)\t\t   (0)\t\t   (2)\t\t   (x)\t\t<safe>\t0\t0.64478\t8\t*BOMB*\t12\t   (.)\t\n",
      "   (0)\t\t   (0)\t\t   (2)\t\t   (x)\t\t   (4)\t\t0.35522\t4\t   (3)\t\t0.50000\t6\n",
      "   (1)\t\t   (1)\t\t   (2)\t\t   (2)\t\t   (x)\t\t   (2)\t\t   (2)\t\t0.50000\t6\n",
      "   (1)\t\t   (x)\t\t   (1)\t\t   (1)\t\t   (1)\t\t   (2)\t\t0.64478\t8\t<safe>\t0\t0.50000\t6\t0.50000\t6\n",
      "   (1)\t\t   (1)\t\t   (2)\t\t   (1)\t\t   (2)\t\t   (2)\t\t0.35522\t4\t0.64478\t8\t   (3)\t\t0.35522\t4\t0.32239\t4\t0.32239\t4\t   (.)\t\t   (.)\t\n",
      "   (0)\t\t   (1)\t\t   (2)\t\t   (x)\t\t   (3)\t\t   (x)\t\t   (2)\t\t   (1)\t\t   (2)\t\t   (x)\t\t   (3)\t\t   (x)\t\t   (x)\t\t   (x)\t\n",
      "   (1)\t\t   (2)\t\t   (x)\t\t   (3)\t\t   (x)\t\t   (2)\t\t   (1)\t\t   (0)\t\t   (1)\t\t   (1)\t\t   (2)\t\t   (3)\t\t   (5)\t\t   (4)\t\n",
      "   (x)\t\t   (4)\t\t   (3)\t\t   (3)\t\t   (1)\t\t   (1)\t\t   (0)\t\t   (0)\t\t   (0)\t\t   (1)\t\t   (1)\t\t   (2)\t\t   (x)\t\t   (x)\t\n",
      "   (2)\t\t   (x)\t\t   (x)\t\t   (1)\t\t   (0)\t\t   (0)\t\t   (0)\t\t   (0)\t\t   (0)\t\t   (1)\t\t   (x)\t\t   (2)\t\t   (2)\t\t   (2)\t\n",
      "   (1)\t\t   (2)\t\t   (2)\t\t   (1)\t\t   (0)\t\t   (0)\t\t   (0)\t\t   (0)\t\t   (0)\t\t   (2)\t\t   (2)\t\t   (2)\t\t   (1)\t\t   (1)\t\n",
      "   (0)\t\t   (0)\t\t   (0)\t\t   (0)\t\t   (0)\t\t   (0)\t\t   (0)\t\t   (0)\t\t   (0)\t\t   (1)\t\t   (x)\t\t   (1)\t\t   (1)\t\t   (x)\t\n"
     ]
    }
   ],
   "source": [
    "# \"・\" represents an item (never be a bomb)\n",
    "# \"？\" represents an un-opened cell\n",
    "# \"０~８\" represents an opened safe cell\n",
    "# \"ｘ\" represents a bomb mark\n",
    "stage = 10\n",
    "field_str = \"\"\"\n",
    "００２ｘ？？？・\n",
    "００２ｘ４？３？\n",
    "１１２２ｘ２２？\n",
    "１ｘ１１１２？？？？\n",
    "１１２１２２？？３？？？・・\n",
    "０１２ｘ３ｘ２１２ｘ３ｘｘｘ\n",
    "１２ｘ３ｘ２１０１１２３５４\n",
    "ｘ４３３１１０００１１２ｘｘ\n",
    "２ｘｘ１０００００１ｘ２２２\n",
    "１２２１０００００２２２１１\n",
    "０００００００００１ｘ１１ｘ\n",
    "\"\"\"\n",
    "num_item_external = 7\n",
    "analyze_field(field_str, num_item_external)"
   ]
  },
  {
   "cell_type": "code",
   "execution_count": null,
   "id": "b9fb7773",
   "metadata": {},
   "outputs": [],
   "source": []
  }
 ],
 "metadata": {
  "kernelspec": {
   "display_name": "Python 3 (ipykernel)",
   "language": "python",
   "name": "python3"
  },
  "language_info": {
   "codemirror_mode": {
    "name": "ipython",
    "version": 3
   },
   "file_extension": ".py",
   "mimetype": "text/x-python",
   "name": "python",
   "nbconvert_exporter": "python",
   "pygments_lexer": "ipython3",
   "version": "3.10.1"
  }
 },
 "nbformat": 4,
 "nbformat_minor": 5
}
