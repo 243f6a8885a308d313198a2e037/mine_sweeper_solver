{
 "cells": [
  {
   "cell_type": "code",
   "execution_count": null,
   "id": "367655fd",
   "metadata": {},
   "outputs": [],
   "source": [
    "!which python\n",
    "!python --version"
   ]
  },
  {
   "cell_type": "code",
   "execution_count": null,
   "id": "83902338",
   "metadata": {},
   "outputs": [],
   "source": [
    "import logging\n",
    "logging.basicConfig(level=logging.INFO)"
   ]
  },
  {
   "cell_type": "code",
   "execution_count": null,
   "id": "92c45ef7",
   "metadata": {},
   "outputs": [],
   "source": [
    "from typing import Tuple\n",
    "from fractions import Fraction\n",
    "\n",
    "from mine_sweeper.solver import (\n",
    "    MineSweeperProblem,\n",
    "    MineSweeperProblemAnalysis,\n",
    "    MineSweeperSolution,\n",
    "    MineSweeperSolutionVisualizer,\n",
    "    MineSweeperSolver,\n",
    ")\n",
    "\n",
    "NUM_BOMB_FOR_STAGE: Tuple[int, ...] = (0, 13, 16, 19, 22, 25, 28, 31, 32, 32, 32)\n",
    "\n",
    "\n",
    "def analyze_field(field_str: str, num_item_external: int = 0) -> None:\n",
    "    problem = MineSweeperProblem.from_field_str(field_str)\n",
    "    solution = MineSweeperSolver.solve(problem)\n",
    "\n",
    "    analysis = MineSweeperProblemAnalysis.from_field_str(field_str)\n",
    "    bomb_rate = Fraction(\n",
    "        # ステージあたり爆弾数 - 確定爆弾\n",
    "        NUM_BOMB_FOR_STAGE[stage] - analysis.num_found,\n",
    "        # 全面 - (図面開放済み + 確定爆弾 + ゴール正面 + アイテム数)\n",
    "        11 * 14 - (analysis.num_opened + analysis.num_found + 1 + num_item_external),\n",
    "    )\n",
    "    print(\"Bomb Rate:\", bomb_rate, float(bomb_rate))\n",
    "    MineSweeperSolutionVisualizer.show_plaintext(solution, bomb_rate)"
   ]
  },
  {
   "cell_type": "code",
   "execution_count": null,
   "id": "34063b51",
   "metadata": {},
   "outputs": [],
   "source": [
    "# \"・\" represents an item (never be a bomb)\n",
    "# \"？\" represents an un-opened cell\n",
    "# \"０~８\" represents an opened safe cell\n",
    "# \"ｘ\" represents a bomb mark\n",
    "stage = 10\n",
    "field_str = \"\"\"\n",
    "００２ｘ？？？・\n",
    "００２ｘ４？３？\n",
    "１１２２ｘ２２？\n",
    "１ｘ１１１２？？？？\n",
    "１１２１２２？？３？？？・・\n",
    "０１２ｘ３ｘ２１２ｘ３ｘｘｘ\n",
    "１２ｘ３ｘ２１０１１２３５４\n",
    "ｘ４３３１１０００１１２ｘｘ\n",
    "２ｘｘ１０００００１ｘ２２２\n",
    "１２２１０００００２２２１１\n",
    "０００００００００１ｘ１１ｘ\n",
    "\"\"\"\n",
    "num_item_external = 7\n",
    "analyze_field(field_str, num_item_external)"
   ]
  }
 ],
 "metadata": {
  "kernelspec": {
   "display_name": "Python 3 (ipykernel)",
   "language": "python",
   "name": "python3"
  },
  "language_info": {
   "codemirror_mode": {
    "name": "ipython",
    "version": 3
   },
   "file_extension": ".py",
   "mimetype": "text/x-python",
   "name": "python",
   "nbconvert_exporter": "python",
   "pygments_lexer": "ipython3",
   "version": "3.10.1"
  }
 },
 "nbformat": 4,
 "nbformat_minor": 5
}
