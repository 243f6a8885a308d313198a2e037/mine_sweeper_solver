{
 "cells": [
  {
   "cell_type": "code",
   "execution_count": 1,
   "id": "83902338",
   "metadata": {},
   "outputs": [],
   "source": [
    "import logging\n",
    "logging.basicConfig(level=logging.INFO)"
   ]
  },
  {
   "cell_type": "code",
   "execution_count": 2,
   "id": "92c45ef7",
   "metadata": {},
   "outputs": [],
   "source": [
    "from typing import Tuple\n",
    "from fractions import Fraction\n",
    "\n",
    "from mine_sweeper.solver import (\n",
    "    MineSweeperProblem,\n",
    "    MineSweeperProblemAnalysis,\n",
    "    MineSweeperSolution,\n",
    "    MineSweeperSolutionVisualizer,\n",
    "    MineSweeperSolver,\n",
    ")\n",
    "\n",
    "NUM_BOMB_FOR_STAGE: Tuple[int, ...] = (0, 13, 16, 19, 22, 25, 28, 31, 32, 32, 32)\n",
    "\n",
    "\n",
    "def analyze_field(field_str: str, num_item_external: int = 0) -> None:\n",
    "    problem = MineSweeperProblem.from_field_str(field_str)\n",
    "    solution = MineSweeperSolver.solve(problem)\n",
    "\n",
    "    analysis = MineSweeperProblemAnalysis.from_field_str(field_str)\n",
    "    bomb_rate = Fraction(\n",
    "        # ステージあたり爆弾数 - 確定爆弾\n",
    "        NUM_BOMB_FOR_STAGE[stage] - analysis.num_found,\n",
    "        # 全面 - (図面開放済み + 確定爆弾 + ゴール正面 + アイテム数)\n",
    "        11 * 14 - (analysis.num_opened + analysis.num_found + 1 + num_item_external),\n",
    "    )\n",
    "    print(\"Bomb Rate:\", bomb_rate, float(bomb_rate))\n",
    "    MineSweeperSolutionVisualizer.show_plaintext(solution, bomb_rate)"
   ]
  },
  {
   "cell_type": "code",
   "execution_count": 3,
   "id": "34063b51",
   "metadata": {},
   "outputs": [
    {
     "name": "stderr",
     "output_type": "stream",
     "text": [
      "INFO:root:# len(questions)=26\n",
      "INFO:root:# len(constraints)=17\n",
      "INFO:root:# len(known_mines)=0\n",
      "INFO:root:# Took 0.8380639543756843 seconds\n",
      "INFO:root:# len(solutions)=192\n"
     ]
    },
    {
     "name": "stdout",
     "output_type": "stream",
     "text": [
      "Bomb Rate: 1/4 0.25\n",
      "<safe>\t0\t0.16413\t36\t0.16413\t36\t*BOMB*\t192\t   (.)\t\t   (　)\t\t0.55529\t114\t0.55529\t114\t0.55529\t114\n",
      "0.34088\t80\t   (1)\t\t   (2)\t\t0.67174\t120\t<safe>\t0\t0.32826\t72\t0.35076\t66\t   (3)\t\t0.55529\t114\n",
      "0.33086\t40\t   (2)\t\t   (1)\t\t   (1)\t\t   (1)\t\t   (1)\t\t   (1)\t\t<safe>\t0\t0.42807\t54\n",
      "*BOMB*\t192\t   (3)\t\t0.32826\t72\t   (1)\t\t   (0)\t\t   (1)\t\t0.32098\t54\t   (2)\t\t0.19064\t46\n",
      "0.33457\t76\t0.33457\t76\t0.67174\t120\t   (1)\t\t   (0)\t\t   (1)\t\t0.67902\t138\t0.19064\t46\t0.19064\t46\n"
     ]
    }
   ],
   "source": [
    "# \"・\" represents an item (never be a bomb)\n",
    "# \"？\" represents an un-opened cell\n",
    "# \"０~８\" represents an opened safe cell\n",
    "# \"ｘ\" represents a bomb mark\n",
    "stage = 10\n",
    "field_str = \"\"\"\n",
    "？？？？・　？？？\n",
    "？１２？？？？３？\n",
    "？２１１１１１？？\n",
    "？３？１０１？２？\n",
    "？？？１０１？？？\n",
    "\"\"\"\n",
    "num_item_external = 7\n",
    "analyze_field(field_str, num_item_external)"
   ]
  },
  {
   "cell_type": "code",
   "execution_count": null,
   "id": "37e9b7e0",
   "metadata": {},
   "outputs": [],
   "source": []
  }
 ],
 "metadata": {
  "kernelspec": {
   "display_name": "Python 3 (ipykernel)",
   "language": "python",
   "name": "python3"
  },
  "language_info": {
   "codemirror_mode": {
    "name": "ipython",
    "version": 3
   },
   "file_extension": ".py",
   "mimetype": "text/x-python",
   "name": "python",
   "nbconvert_exporter": "python",
   "pygments_lexer": "ipython3",
   "version": "3.10.1"
  }
 },
 "nbformat": 4,
 "nbformat_minor": 5
}
